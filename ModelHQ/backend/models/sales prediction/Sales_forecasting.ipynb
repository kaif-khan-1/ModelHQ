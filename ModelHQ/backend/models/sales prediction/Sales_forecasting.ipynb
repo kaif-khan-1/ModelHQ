{
  "nbformat": 4,
  "nbformat_minor": 0,
  "metadata": {
    "colab": {
      "provenance": [],
      "gpuType": "T4"
    },
    "kernelspec": {
      "name": "python3",
      "display_name": "Python 3"
    },
    "language_info": {
      "name": "python"
    },
    "accelerator": "GPU"
  },
  "cells": [
    {
      "cell_type": "code",
      "execution_count": 1,
      "metadata": {
        "colab": {
          "base_uri": "https://localhost:8080/"
        },
        "id": "ku-xurnlh-3W",
        "outputId": "8512a465-8ea3-4d47-d801-10fb71019079"
      },
      "outputs": [
        {
          "output_type": "stream",
          "name": "stdout",
          "text": [
            "Successfully extracted '/content/archive.zip' to '/content/extracted_files'\n"
          ]
        }
      ],
      "source": [
        "import os\n",
        "import zipfile\n",
        "\n",
        "# Define the path to your uploaded ZIP file in Colab\n",
        "zip_file_path = '/content/archive.zip'  # Replace with the actual path and filename\n",
        "\n",
        "# Define the directory where you want to extract the contents\n",
        "extracted_dir = '/content/extracted_files'\n",
        "\n",
        "# Create the extraction directory if it doesn't exist\n",
        "os.makedirs(extracted_dir, exist_ok=True)\n",
        "\n",
        "# Open the ZIP file\n",
        "with zipfile.ZipFile(zip_file_path, 'r') as zip_ref:\n",
        "    # Extract all the contents to the specified directory\n",
        "    zip_ref.extractall(extracted_dir)\n",
        "\n",
        "print(f\"Successfully extracted '{zip_file_path}' to '{extracted_dir}'\")"
      ]
    },
    {
      "cell_type": "code",
      "source": [
        "import os\n",
        "import zipfile\n",
        "import pandas as pd\n",
        "import numpy as np\n",
        "from sklearn.model_selection import train_test_split\n",
        "from sklearn.preprocessing import MinMaxScaler\n",
        "from sklearn.metrics import mean_absolute_error, mean_squared_error, r2_score\n",
        "import xgboost as xgb\n",
        "import matplotlib.pyplot as plt\n",
        "import seaborn as sns\n",
        "from hyperopt import hp, fmin, tpe, Trials, STATUS_OK"
      ],
      "metadata": {
        "id": "inYmh2XAjwkn"
      },
      "execution_count": 41,
      "outputs": []
    },
    {
      "cell_type": "code",
      "source": [
        "# Load the dataset\n",
        "df = pd.read_csv('/content/extracted_files/Walmart.csv')"
      ],
      "metadata": {
        "id": "BaDTBRpmjy51"
      },
      "execution_count": 36,
      "outputs": []
    },
    {
      "cell_type": "code",
      "source": [
        "df.head()"
      ],
      "metadata": {
        "colab": {
          "base_uri": "https://localhost:8080/",
          "height": 206
        },
        "id": "k6mYZPmAkT4V",
        "outputId": "9f8a962b-d716-4731-d5e6-0fb78309c100"
      },
      "execution_count": 37,
      "outputs": [
        {
          "output_type": "execute_result",
          "data": {
            "text/plain": [
              "   Store        Date  Weekly_Sales  Holiday_Flag  Temperature  Fuel_Price  \\\n",
              "0      1  05-02-2010    1643690.90             0        42.31       2.572   \n",
              "1      1  12-02-2010    1641957.44             1        38.51       2.548   \n",
              "2      1  19-02-2010    1611968.17             0        39.93       2.514   \n",
              "3      1  26-02-2010    1409727.59             0        46.63       2.561   \n",
              "4      1  05-03-2010    1554806.68             0        46.50       2.625   \n",
              "\n",
              "          CPI  Unemployment  \n",
              "0  211.096358         8.106  \n",
              "1  211.242170         8.106  \n",
              "2  211.289143         8.106  \n",
              "3  211.319643         8.106  \n",
              "4  211.350143         8.106  "
            ],
            "text/html": [
              "\n",
              "  <div id=\"df-4f50d77a-7e6a-4a23-aee9-f42489c9c6a1\" class=\"colab-df-container\">\n",
              "    <div>\n",
              "<style scoped>\n",
              "    .dataframe tbody tr th:only-of-type {\n",
              "        vertical-align: middle;\n",
              "    }\n",
              "\n",
              "    .dataframe tbody tr th {\n",
              "        vertical-align: top;\n",
              "    }\n",
              "\n",
              "    .dataframe thead th {\n",
              "        text-align: right;\n",
              "    }\n",
              "</style>\n",
              "<table border=\"1\" class=\"dataframe\">\n",
              "  <thead>\n",
              "    <tr style=\"text-align: right;\">\n",
              "      <th></th>\n",
              "      <th>Store</th>\n",
              "      <th>Date</th>\n",
              "      <th>Weekly_Sales</th>\n",
              "      <th>Holiday_Flag</th>\n",
              "      <th>Temperature</th>\n",
              "      <th>Fuel_Price</th>\n",
              "      <th>CPI</th>\n",
              "      <th>Unemployment</th>\n",
              "    </tr>\n",
              "  </thead>\n",
              "  <tbody>\n",
              "    <tr>\n",
              "      <th>0</th>\n",
              "      <td>1</td>\n",
              "      <td>05-02-2010</td>\n",
              "      <td>1643690.90</td>\n",
              "      <td>0</td>\n",
              "      <td>42.31</td>\n",
              "      <td>2.572</td>\n",
              "      <td>211.096358</td>\n",
              "      <td>8.106</td>\n",
              "    </tr>\n",
              "    <tr>\n",
              "      <th>1</th>\n",
              "      <td>1</td>\n",
              "      <td>12-02-2010</td>\n",
              "      <td>1641957.44</td>\n",
              "      <td>1</td>\n",
              "      <td>38.51</td>\n",
              "      <td>2.548</td>\n",
              "      <td>211.242170</td>\n",
              "      <td>8.106</td>\n",
              "    </tr>\n",
              "    <tr>\n",
              "      <th>2</th>\n",
              "      <td>1</td>\n",
              "      <td>19-02-2010</td>\n",
              "      <td>1611968.17</td>\n",
              "      <td>0</td>\n",
              "      <td>39.93</td>\n",
              "      <td>2.514</td>\n",
              "      <td>211.289143</td>\n",
              "      <td>8.106</td>\n",
              "    </tr>\n",
              "    <tr>\n",
              "      <th>3</th>\n",
              "      <td>1</td>\n",
              "      <td>26-02-2010</td>\n",
              "      <td>1409727.59</td>\n",
              "      <td>0</td>\n",
              "      <td>46.63</td>\n",
              "      <td>2.561</td>\n",
              "      <td>211.319643</td>\n",
              "      <td>8.106</td>\n",
              "    </tr>\n",
              "    <tr>\n",
              "      <th>4</th>\n",
              "      <td>1</td>\n",
              "      <td>05-03-2010</td>\n",
              "      <td>1554806.68</td>\n",
              "      <td>0</td>\n",
              "      <td>46.50</td>\n",
              "      <td>2.625</td>\n",
              "      <td>211.350143</td>\n",
              "      <td>8.106</td>\n",
              "    </tr>\n",
              "  </tbody>\n",
              "</table>\n",
              "</div>\n",
              "    <div class=\"colab-df-buttons\">\n",
              "\n",
              "  <div class=\"colab-df-container\">\n",
              "    <button class=\"colab-df-convert\" onclick=\"convertToInteractive('df-4f50d77a-7e6a-4a23-aee9-f42489c9c6a1')\"\n",
              "            title=\"Convert this dataframe to an interactive table.\"\n",
              "            style=\"display:none;\">\n",
              "\n",
              "  <svg xmlns=\"http://www.w3.org/2000/svg\" height=\"24px\" viewBox=\"0 -960 960 960\">\n",
              "    <path d=\"M120-120v-720h720v720H120Zm60-500h600v-160H180v160Zm220 220h160v-160H400v160Zm0 220h160v-160H400v160ZM180-400h160v-160H180v160Zm440 0h160v-160H620v160ZM180-180h160v-160H180v160Zm440 0h160v-160H620v160Z\"/>\n",
              "  </svg>\n",
              "    </button>\n",
              "\n",
              "  <style>\n",
              "    .colab-df-container {\n",
              "      display:flex;\n",
              "      gap: 12px;\n",
              "    }\n",
              "\n",
              "    .colab-df-convert {\n",
              "      background-color: #E8F0FE;\n",
              "      border: none;\n",
              "      border-radius: 50%;\n",
              "      cursor: pointer;\n",
              "      display: none;\n",
              "      fill: #1967D2;\n",
              "      height: 32px;\n",
              "      padding: 0 0 0 0;\n",
              "      width: 32px;\n",
              "    }\n",
              "\n",
              "    .colab-df-convert:hover {\n",
              "      background-color: #E2EBFA;\n",
              "      box-shadow: 0px 1px 2px rgba(60, 64, 67, 0.3), 0px 1px 3px 1px rgba(60, 64, 67, 0.15);\n",
              "      fill: #174EA6;\n",
              "    }\n",
              "\n",
              "    .colab-df-buttons div {\n",
              "      margin-bottom: 4px;\n",
              "    }\n",
              "\n",
              "    [theme=dark] .colab-df-convert {\n",
              "      background-color: #3B4455;\n",
              "      fill: #D2E3FC;\n",
              "    }\n",
              "\n",
              "    [theme=dark] .colab-df-convert:hover {\n",
              "      background-color: #434B5C;\n",
              "      box-shadow: 0px 1px 3px 1px rgba(0, 0, 0, 0.15);\n",
              "      filter: drop-shadow(0px 1px 2px rgba(0, 0, 0, 0.3));\n",
              "      fill: #FFFFFF;\n",
              "    }\n",
              "  </style>\n",
              "\n",
              "    <script>\n",
              "      const buttonEl =\n",
              "        document.querySelector('#df-4f50d77a-7e6a-4a23-aee9-f42489c9c6a1 button.colab-df-convert');\n",
              "      buttonEl.style.display =\n",
              "        google.colab.kernel.accessAllowed ? 'block' : 'none';\n",
              "\n",
              "      async function convertToInteractive(key) {\n",
              "        const element = document.querySelector('#df-4f50d77a-7e6a-4a23-aee9-f42489c9c6a1');\n",
              "        const dataTable =\n",
              "          await google.colab.kernel.invokeFunction('convertToInteractive',\n",
              "                                                    [key], {});\n",
              "        if (!dataTable) return;\n",
              "\n",
              "        const docLinkHtml = 'Like what you see? Visit the ' +\n",
              "          '<a target=\"_blank\" href=https://colab.research.google.com/notebooks/data_table.ipynb>data table notebook</a>'\n",
              "          + ' to learn more about interactive tables.';\n",
              "        element.innerHTML = '';\n",
              "        dataTable['output_type'] = 'display_data';\n",
              "        await google.colab.output.renderOutput(dataTable, element);\n",
              "        const docLink = document.createElement('div');\n",
              "        docLink.innerHTML = docLinkHtml;\n",
              "        element.appendChild(docLink);\n",
              "      }\n",
              "    </script>\n",
              "  </div>\n",
              "\n",
              "\n",
              "<div id=\"df-ee2125bf-adb6-4e52-bb19-98fccd775ee4\">\n",
              "  <button class=\"colab-df-quickchart\" onclick=\"quickchart('df-ee2125bf-adb6-4e52-bb19-98fccd775ee4')\"\n",
              "            title=\"Suggest charts\"\n",
              "            style=\"display:none;\">\n",
              "\n",
              "<svg xmlns=\"http://www.w3.org/2000/svg\" height=\"24px\"viewBox=\"0 0 24 24\"\n",
              "     width=\"24px\">\n",
              "    <g>\n",
              "        <path d=\"M19 3H5c-1.1 0-2 .9-2 2v14c0 1.1.9 2 2 2h14c1.1 0 2-.9 2-2V5c0-1.1-.9-2-2-2zM9 17H7v-7h2v7zm4 0h-2V7h2v10zm4 0h-2v-4h2v4z\"/>\n",
              "    </g>\n",
              "</svg>\n",
              "  </button>\n",
              "\n",
              "<style>\n",
              "  .colab-df-quickchart {\n",
              "      --bg-color: #E8F0FE;\n",
              "      --fill-color: #1967D2;\n",
              "      --hover-bg-color: #E2EBFA;\n",
              "      --hover-fill-color: #174EA6;\n",
              "      --disabled-fill-color: #AAA;\n",
              "      --disabled-bg-color: #DDD;\n",
              "  }\n",
              "\n",
              "  [theme=dark] .colab-df-quickchart {\n",
              "      --bg-color: #3B4455;\n",
              "      --fill-color: #D2E3FC;\n",
              "      --hover-bg-color: #434B5C;\n",
              "      --hover-fill-color: #FFFFFF;\n",
              "      --disabled-bg-color: #3B4455;\n",
              "      --disabled-fill-color: #666;\n",
              "  }\n",
              "\n",
              "  .colab-df-quickchart {\n",
              "    background-color: var(--bg-color);\n",
              "    border: none;\n",
              "    border-radius: 50%;\n",
              "    cursor: pointer;\n",
              "    display: none;\n",
              "    fill: var(--fill-color);\n",
              "    height: 32px;\n",
              "    padding: 0;\n",
              "    width: 32px;\n",
              "  }\n",
              "\n",
              "  .colab-df-quickchart:hover {\n",
              "    background-color: var(--hover-bg-color);\n",
              "    box-shadow: 0 1px 2px rgba(60, 64, 67, 0.3), 0 1px 3px 1px rgba(60, 64, 67, 0.15);\n",
              "    fill: var(--button-hover-fill-color);\n",
              "  }\n",
              "\n",
              "  .colab-df-quickchart-complete:disabled,\n",
              "  .colab-df-quickchart-complete:disabled:hover {\n",
              "    background-color: var(--disabled-bg-color);\n",
              "    fill: var(--disabled-fill-color);\n",
              "    box-shadow: none;\n",
              "  }\n",
              "\n",
              "  .colab-df-spinner {\n",
              "    border: 2px solid var(--fill-color);\n",
              "    border-color: transparent;\n",
              "    border-bottom-color: var(--fill-color);\n",
              "    animation:\n",
              "      spin 1s steps(1) infinite;\n",
              "  }\n",
              "\n",
              "  @keyframes spin {\n",
              "    0% {\n",
              "      border-color: transparent;\n",
              "      border-bottom-color: var(--fill-color);\n",
              "      border-left-color: var(--fill-color);\n",
              "    }\n",
              "    20% {\n",
              "      border-color: transparent;\n",
              "      border-left-color: var(--fill-color);\n",
              "      border-top-color: var(--fill-color);\n",
              "    }\n",
              "    30% {\n",
              "      border-color: transparent;\n",
              "      border-left-color: var(--fill-color);\n",
              "      border-top-color: var(--fill-color);\n",
              "      border-right-color: var(--fill-color);\n",
              "    }\n",
              "    40% {\n",
              "      border-color: transparent;\n",
              "      border-right-color: var(--fill-color);\n",
              "      border-top-color: var(--fill-color);\n",
              "    }\n",
              "    60% {\n",
              "      border-color: transparent;\n",
              "      border-right-color: var(--fill-color);\n",
              "    }\n",
              "    80% {\n",
              "      border-color: transparent;\n",
              "      border-right-color: var(--fill-color);\n",
              "      border-bottom-color: var(--fill-color);\n",
              "    }\n",
              "    90% {\n",
              "      border-color: transparent;\n",
              "      border-bottom-color: var(--fill-color);\n",
              "    }\n",
              "  }\n",
              "</style>\n",
              "\n",
              "  <script>\n",
              "    async function quickchart(key) {\n",
              "      const quickchartButtonEl =\n",
              "        document.querySelector('#' + key + ' button');\n",
              "      quickchartButtonEl.disabled = true;  // To prevent multiple clicks.\n",
              "      quickchartButtonEl.classList.add('colab-df-spinner');\n",
              "      try {\n",
              "        const charts = await google.colab.kernel.invokeFunction(\n",
              "            'suggestCharts', [key], {});\n",
              "      } catch (error) {\n",
              "        console.error('Error during call to suggestCharts:', error);\n",
              "      }\n",
              "      quickchartButtonEl.classList.remove('colab-df-spinner');\n",
              "      quickchartButtonEl.classList.add('colab-df-quickchart-complete');\n",
              "    }\n",
              "    (() => {\n",
              "      let quickchartButtonEl =\n",
              "        document.querySelector('#df-ee2125bf-adb6-4e52-bb19-98fccd775ee4 button');\n",
              "      quickchartButtonEl.style.display =\n",
              "        google.colab.kernel.accessAllowed ? 'block' : 'none';\n",
              "    })();\n",
              "  </script>\n",
              "</div>\n",
              "\n",
              "    </div>\n",
              "  </div>\n"
            ],
            "application/vnd.google.colaboratory.intrinsic+json": {
              "type": "dataframe",
              "variable_name": "df",
              "summary": "{\n  \"name\": \"df\",\n  \"rows\": 6435,\n  \"fields\": [\n    {\n      \"column\": \"Store\",\n      \"properties\": {\n        \"dtype\": \"number\",\n        \"std\": 12,\n        \"min\": 1,\n        \"max\": 45,\n        \"num_unique_values\": 45,\n        \"samples\": [\n          40,\n          26,\n          27\n        ],\n        \"semantic_type\": \"\",\n        \"description\": \"\"\n      }\n    },\n    {\n      \"column\": \"Date\",\n      \"properties\": {\n        \"dtype\": \"category\",\n        \"num_unique_values\": 143,\n        \"samples\": [\n          \"04-05-2012\",\n          \"18-06-2010\",\n          \"02-09-2011\"\n        ],\n        \"semantic_type\": \"\",\n        \"description\": \"\"\n      }\n    },\n    {\n      \"column\": \"Weekly_Sales\",\n      \"properties\": {\n        \"dtype\": \"number\",\n        \"std\": 564366.6220536974,\n        \"min\": 209986.25,\n        \"max\": 3818686.45,\n        \"num_unique_values\": 6435,\n        \"samples\": [\n          1138800.32,\n          1304850.67,\n          1769296.25\n        ],\n        \"semantic_type\": \"\",\n        \"description\": \"\"\n      }\n    },\n    {\n      \"column\": \"Holiday_Flag\",\n      \"properties\": {\n        \"dtype\": \"number\",\n        \"std\": 0,\n        \"min\": 0,\n        \"max\": 1,\n        \"num_unique_values\": 2,\n        \"samples\": [\n          1,\n          0\n        ],\n        \"semantic_type\": \"\",\n        \"description\": \"\"\n      }\n    },\n    {\n      \"column\": \"Temperature\",\n      \"properties\": {\n        \"dtype\": \"number\",\n        \"std\": 18.444932875811585,\n        \"min\": -2.06,\n        \"max\": 100.14,\n        \"num_unique_values\": 3528,\n        \"samples\": [\n          51.13,\n          98.15\n        ],\n        \"semantic_type\": \"\",\n        \"description\": \"\"\n      }\n    },\n    {\n      \"column\": \"Fuel_Price\",\n      \"properties\": {\n        \"dtype\": \"number\",\n        \"std\": 0.4590197071928516,\n        \"min\": 2.472,\n        \"max\": 4.468,\n        \"num_unique_values\": 892,\n        \"samples\": [\n          2.84,\n          3.95\n        ],\n        \"semantic_type\": \"\",\n        \"description\": \"\"\n      }\n    },\n    {\n      \"column\": \"CPI\",\n      \"properties\": {\n        \"dtype\": \"number\",\n        \"std\": 39.35671229566413,\n        \"min\": 126.064,\n        \"max\": 227.2328068,\n        \"num_unique_values\": 2145,\n        \"samples\": [\n          184.613419,\n          214.1083654\n        ],\n        \"semantic_type\": \"\",\n        \"description\": \"\"\n      }\n    },\n    {\n      \"column\": \"Unemployment\",\n      \"properties\": {\n        \"dtype\": \"number\",\n        \"std\": 1.8758847818628084,\n        \"min\": 3.879,\n        \"max\": 14.313,\n        \"num_unique_values\": 349,\n        \"samples\": [\n          8.185,\n          7.804\n        ],\n        \"semantic_type\": \"\",\n        \"description\": \"\"\n      }\n    }\n  ]\n}"
            }
          },
          "metadata": {},
          "execution_count": 37
        }
      ]
    },
    {
      "cell_type": "code",
      "source": [
        "df.columns"
      ],
      "metadata": {
        "colab": {
          "base_uri": "https://localhost:8080/"
        },
        "id": "xTv5G2HGkVNE",
        "outputId": "43e41b13-1303-414b-afed-3a95fe03488b"
      },
      "execution_count": 38,
      "outputs": [
        {
          "output_type": "execute_result",
          "data": {
            "text/plain": [
              "Index(['Store', 'Date', 'Weekly_Sales', 'Holiday_Flag', 'Temperature',\n",
              "       'Fuel_Price', 'CPI', 'Unemployment'],\n",
              "      dtype='object')"
            ]
          },
          "metadata": {},
          "execution_count": 38
        }
      ]
    },
    {
      "cell_type": "code",
      "source": [
        "# Data Preprocessing\n",
        "def preprocess_data(df):\n",
        "    # Convert date to datetime\n",
        "    df['Date'] = pd.to_datetime(df['Date'], dayfirst=True)\n",
        "\n",
        "    # Extract temporal features\n",
        "    df['Year'] = df['Date'].dt.year\n",
        "    df['Month'] = df['Date'].dt.month\n",
        "    df['WeekOfYear'] = df['Date'].dt.isocalendar().week\n",
        "\n",
        "    # Handle missing values\n",
        "    numerical_cols = ['Temperature', 'Fuel_Price', 'CPI', 'Unemployment']\n",
        "    for col in numerical_cols:\n",
        "        df[col].fillna(df[col].median(), inplace=True)\n",
        "\n",
        "    # Feature engineering\n",
        "    df['Store_Size_Category'] = pd.qcut(df['Store'], q=3, labels=['Small', 'Medium', 'Large'])\n",
        "    df['IsHoliday'] = df['Holiday_Flag']  # Create IsHoliday column\n",
        "\n",
        "    # One-hot encoding\n",
        "    df = pd.get_dummies(df, columns=['Store_Size_Category', 'IsHoliday'], drop_first=True)\n",
        "\n",
        "    # Feature selection\n",
        "    features = ['Store', 'Temperature', 'Fuel_Price', 'CPI',\n",
        "               'Unemployment', 'Year', 'WeekOfYear'] + \\\n",
        "               [col for col in df.columns if col.startswith('Store_Size_Category_') or col.startswith('IsHoliday_')]\n",
        "\n",
        "    # Scaling\n",
        "    scaler = MinMaxScaler()\n",
        "    numerical_features = ['Temperature', 'Fuel_Price', 'CPI', 'Unemployment', 'WeekOfYear']\n",
        "    df[numerical_features] = scaler.fit_transform(df[numerical_features])\n",
        "\n",
        "    df['Is_Thanksgiving_Week'] = (df['WeekOfYear'] == 47).astype(int)\n",
        "    df['Yearly_Growth'] = df.groupby('Store')['Weekly_Sales'].pct_change()\n",
        "\n",
        "    return df[features], df['Weekly_Sales']\n",
        "\n",
        "# Preprocess the data\n",
        "X, y = preprocess_data(df)"
      ],
      "metadata": {
        "colab": {
          "base_uri": "https://localhost:8080/"
        },
        "id": "D4IkerQaj6f1",
        "outputId": "8d10e5c1-1364-427b-d035-ec02a4e228e1"
      },
      "execution_count": 42,
      "outputs": [
        {
          "output_type": "stream",
          "name": "stderr",
          "text": [
            "<ipython-input-42-1beb3cd2f9f7>:14: FutureWarning: A value is trying to be set on a copy of a DataFrame or Series through chained assignment using an inplace method.\n",
            "The behavior will change in pandas 3.0. This inplace method will never work because the intermediate object on which we are setting values always behaves as a copy.\n",
            "\n",
            "For example, when doing 'df[col].method(value, inplace=True)', try using 'df.method({col: value}, inplace=True)' or df[col] = df[col].method(value) instead, to perform the operation inplace on the original object.\n",
            "\n",
            "\n",
            "  df[col].fillna(df[col].median(), inplace=True)\n"
          ]
        }
      ]
    },
    {
      "cell_type": "code",
      "source": [
        "# Train-test split\n",
        "X_train, X_test, y_train, y_test = train_test_split(X, y, test_size=0.2, random_state=55)"
      ],
      "metadata": {
        "id": "xQ0giwZLkyfH"
      },
      "execution_count": 43,
      "outputs": []
    },
    {
      "cell_type": "code",
      "source": [
        "# Correct way to use early stopping with XGBoost\n",
        "dtrain = xgb.DMatrix(X_train, label=y_train)\n",
        "dtest = xgb.DMatrix(X_test, label=y_test)\n"
      ],
      "metadata": {
        "id": "x9MGrDm7lsc1"
      },
      "execution_count": 44,
      "outputs": []
    },
    {
      "cell_type": "code",
      "source": [
        "params = {\n",
        "    'objective': 'reg:squarederror',\n",
        "    'max_depth': 8,\n",
        "    'learning_rate': 0.1,\n",
        "    'subsample': 0.8,\n",
        "    'colsample_bytree': 0.8,\n",
        "    'gamma': 0.1,\n",
        "    'random_state': 55\n",
        "}\n"
      ],
      "metadata": {
        "id": "QbQxj61rlvFk"
      },
      "execution_count": 45,
      "outputs": []
    },
    {
      "cell_type": "code",
      "source": [
        "# Train with early stopping\n",
        "model = xgb.train(\n",
        "    params,\n",
        "    dtrain,\n",
        "    num_boost_round=500,\n",
        "    evals=[(dtrain, 'train'), (dtest, 'test')],\n",
        "    early_stopping_rounds=10,\n",
        "    verbose_eval=True\n",
        ")"
      ],
      "metadata": {
        "colab": {
          "base_uri": "https://localhost:8080/"
        },
        "id": "1fXN22Jqk_8c",
        "outputId": "cd5aa7b7-d2e7-461d-96c3-a6113060a779"
      },
      "execution_count": 46,
      "outputs": [
        {
          "output_type": "stream",
          "name": "stdout",
          "text": [
            "[0]\ttrain-rmse:512168.72017\ttest-rmse:522383.52837\n",
            "[1]\ttrain-rmse:466922.27489\ttest-rmse:477768.10038\n",
            "[2]\ttrain-rmse:427534.69425\ttest-rmse:439881.03646\n",
            "[3]\ttrain-rmse:406277.79377\ttest-rmse:420636.52464\n",
            "[4]\ttrain-rmse:371920.06596\ttest-rmse:386872.50320\n",
            "[5]\ttrain-rmse:339385.11292\ttest-rmse:354457.51877\n",
            "[6]\ttrain-rmse:311666.71573\ttest-rmse:327704.28643\n",
            "[7]\ttrain-rmse:286012.96283\ttest-rmse:302533.06645\n",
            "[8]\ttrain-rmse:268562.99978\ttest-rmse:287404.24906\n",
            "[9]\ttrain-rmse:248278.91455\ttest-rmse:269354.05506\n",
            "[10]\ttrain-rmse:236999.68876\ttest-rmse:260059.55830\n",
            "[11]\ttrain-rmse:220491.88583\ttest-rmse:244863.72282\n",
            "[12]\ttrain-rmse:211035.75833\ttest-rmse:236077.39973\n",
            "[13]\ttrain-rmse:196547.06620\ttest-rmse:222257.12683\n",
            "[14]\ttrain-rmse:185390.43717\ttest-rmse:212302.33178\n",
            "[15]\ttrain-rmse:174279.59697\ttest-rmse:202651.59625\n",
            "[16]\ttrain-rmse:164032.94562\ttest-rmse:193755.25392\n",
            "[17]\ttrain-rmse:158363.22984\ttest-rmse:189070.57183\n",
            "[18]\ttrain-rmse:149429.21439\ttest-rmse:181174.55786\n",
            "[19]\ttrain-rmse:141344.10445\ttest-rmse:173694.14886\n",
            "[20]\ttrain-rmse:136307.28485\ttest-rmse:170186.10733\n",
            "[21]\ttrain-rmse:128606.17298\ttest-rmse:164761.62418\n",
            "[22]\ttrain-rmse:124823.47619\ttest-rmse:162616.47953\n",
            "[23]\ttrain-rmse:117770.37724\ttest-rmse:156664.86700\n",
            "[24]\ttrain-rmse:111879.92711\ttest-rmse:152286.83608\n",
            "[25]\ttrain-rmse:107945.93964\ttest-rmse:149242.15533\n",
            "[26]\ttrain-rmse:104513.11289\ttest-rmse:146507.59978\n",
            "[27]\ttrain-rmse:100428.40253\ttest-rmse:143925.99145\n",
            "[28]\ttrain-rmse:97811.12656\ttest-rmse:141870.86972\n",
            "[29]\ttrain-rmse:95589.66468\ttest-rmse:140152.79801\n",
            "[30]\ttrain-rmse:91690.57868\ttest-rmse:137123.53632\n",
            "[31]\ttrain-rmse:90001.54501\ttest-rmse:136139.83743\n",
            "[32]\ttrain-rmse:88370.54279\ttest-rmse:135472.08033\n",
            "[33]\ttrain-rmse:86839.08060\ttest-rmse:134164.44687\n",
            "[34]\ttrain-rmse:84125.50541\ttest-rmse:132513.66492\n",
            "[35]\ttrain-rmse:81102.30495\ttest-rmse:130256.38144\n",
            "[36]\ttrain-rmse:79090.88563\ttest-rmse:128887.13896\n",
            "[37]\ttrain-rmse:77769.96830\ttest-rmse:128102.48109\n",
            "[38]\ttrain-rmse:75881.92085\ttest-rmse:126900.37658\n",
            "[39]\ttrain-rmse:73782.23441\ttest-rmse:125588.39880\n",
            "[40]\ttrain-rmse:72278.58034\ttest-rmse:124822.13786\n",
            "[41]\ttrain-rmse:71188.82612\ttest-rmse:124276.84464\n",
            "[42]\ttrain-rmse:70254.26368\ttest-rmse:123455.90911\n",
            "[43]\ttrain-rmse:69042.71392\ttest-rmse:122434.33102\n",
            "[44]\ttrain-rmse:67186.97364\ttest-rmse:121043.54269\n",
            "[45]\ttrain-rmse:65671.39814\ttest-rmse:119955.34881\n",
            "[46]\ttrain-rmse:64596.09828\ttest-rmse:119291.04525\n",
            "[47]\ttrain-rmse:63822.91521\ttest-rmse:119163.19606\n",
            "[48]\ttrain-rmse:62948.97719\ttest-rmse:118319.98210\n",
            "[49]\ttrain-rmse:62335.06246\ttest-rmse:117878.60906\n",
            "[50]\ttrain-rmse:61831.16494\ttest-rmse:117533.16856\n",
            "[51]\ttrain-rmse:61359.94566\ttest-rmse:117257.09412\n",
            "[52]\ttrain-rmse:60516.47590\ttest-rmse:116633.97632\n",
            "[53]\ttrain-rmse:59771.06749\ttest-rmse:116037.19322\n",
            "[54]\ttrain-rmse:59289.68504\ttest-rmse:115775.00310\n",
            "[55]\ttrain-rmse:58074.01011\ttest-rmse:114873.19891\n",
            "[56]\ttrain-rmse:57226.11761\ttest-rmse:114318.81664\n",
            "[57]\ttrain-rmse:56598.33030\ttest-rmse:114085.85616\n",
            "[58]\ttrain-rmse:56135.90411\ttest-rmse:113728.11752\n",
            "[59]\ttrain-rmse:55197.88017\ttest-rmse:113456.03665\n",
            "[60]\ttrain-rmse:54367.97905\ttest-rmse:112837.58250\n",
            "[61]\ttrain-rmse:53765.39786\ttest-rmse:112507.84960\n",
            "[62]\ttrain-rmse:53338.10705\ttest-rmse:112179.83326\n",
            "[63]\ttrain-rmse:52572.27996\ttest-rmse:111824.20156\n",
            "[64]\ttrain-rmse:52035.77832\ttest-rmse:111638.31012\n",
            "[65]\ttrain-rmse:51731.27801\ttest-rmse:111554.09844\n",
            "[66]\ttrain-rmse:51316.26690\ttest-rmse:111323.12764\n",
            "[67]\ttrain-rmse:51023.24512\ttest-rmse:111251.42988\n",
            "[68]\ttrain-rmse:50108.41597\ttest-rmse:110825.89943\n",
            "[69]\ttrain-rmse:49494.08191\ttest-rmse:110570.22218\n",
            "[70]\ttrain-rmse:49247.18431\ttest-rmse:110514.79339\n",
            "[71]\ttrain-rmse:48988.21739\ttest-rmse:110368.66090\n",
            "[72]\ttrain-rmse:48523.07869\ttest-rmse:110100.97726\n",
            "[73]\ttrain-rmse:48207.19768\ttest-rmse:109652.77280\n",
            "[74]\ttrain-rmse:47954.33149\ttest-rmse:109603.68388\n",
            "[75]\ttrain-rmse:47449.17954\ttest-rmse:109442.82455\n",
            "[76]\ttrain-rmse:46705.80067\ttest-rmse:108866.79659\n",
            "[77]\ttrain-rmse:45927.09624\ttest-rmse:108280.10438\n",
            "[78]\ttrain-rmse:45540.13293\ttest-rmse:108100.55578\n",
            "[79]\ttrain-rmse:45198.65385\ttest-rmse:107980.56026\n",
            "[80]\ttrain-rmse:44801.53378\ttest-rmse:107673.54971\n",
            "[81]\ttrain-rmse:44426.11429\ttest-rmse:107504.79175\n",
            "[82]\ttrain-rmse:44029.04662\ttest-rmse:107359.22678\n",
            "[83]\ttrain-rmse:43653.78237\ttest-rmse:107270.33246\n",
            "[84]\ttrain-rmse:43354.85956\ttest-rmse:107160.32165\n",
            "[85]\ttrain-rmse:43064.03283\ttest-rmse:107036.77245\n",
            "[86]\ttrain-rmse:42889.63873\ttest-rmse:106977.07488\n",
            "[87]\ttrain-rmse:42479.79621\ttest-rmse:106873.67291\n",
            "[88]\ttrain-rmse:42125.83124\ttest-rmse:106826.28446\n",
            "[89]\ttrain-rmse:41792.37805\ttest-rmse:106730.71921\n",
            "[90]\ttrain-rmse:41527.48214\ttest-rmse:106482.93140\n",
            "[91]\ttrain-rmse:41057.20103\ttest-rmse:106422.16066\n",
            "[92]\ttrain-rmse:40751.68330\ttest-rmse:106260.81846\n",
            "[93]\ttrain-rmse:40477.75299\ttest-rmse:106122.44107\n",
            "[94]\ttrain-rmse:40015.50918\ttest-rmse:106009.81564\n",
            "[95]\ttrain-rmse:39816.96042\ttest-rmse:105962.81424\n",
            "[96]\ttrain-rmse:39663.79784\ttest-rmse:105968.42290\n",
            "[97]\ttrain-rmse:39237.63813\ttest-rmse:105843.51433\n",
            "[98]\ttrain-rmse:39095.99942\ttest-rmse:105743.22269\n",
            "[99]\ttrain-rmse:38687.41875\ttest-rmse:105620.76713\n",
            "[100]\ttrain-rmse:38466.15024\ttest-rmse:105381.84312\n",
            "[101]\ttrain-rmse:38116.93674\ttest-rmse:105218.71901\n",
            "[102]\ttrain-rmse:37737.36174\ttest-rmse:105118.96265\n",
            "[103]\ttrain-rmse:37586.86916\ttest-rmse:104894.59784\n",
            "[104]\ttrain-rmse:37181.96612\ttest-rmse:104853.44641\n",
            "[105]\ttrain-rmse:36903.91474\ttest-rmse:104793.11604\n",
            "[106]\ttrain-rmse:36714.31684\ttest-rmse:104688.73944\n",
            "[107]\ttrain-rmse:36469.82004\ttest-rmse:104548.52116\n",
            "[108]\ttrain-rmse:36179.12479\ttest-rmse:104505.51692\n",
            "[109]\ttrain-rmse:35795.23055\ttest-rmse:104383.81604\n",
            "[110]\ttrain-rmse:35537.60264\ttest-rmse:104384.20823\n",
            "[111]\ttrain-rmse:35256.72045\ttest-rmse:104301.13361\n",
            "[112]\ttrain-rmse:35049.18927\ttest-rmse:104233.39706\n",
            "[113]\ttrain-rmse:34668.58318\ttest-rmse:104020.34774\n",
            "[114]\ttrain-rmse:34462.15101\ttest-rmse:103987.49977\n",
            "[115]\ttrain-rmse:34323.83015\ttest-rmse:103912.40559\n",
            "[116]\ttrain-rmse:34121.45207\ttest-rmse:103855.26450\n",
            "[117]\ttrain-rmse:33849.96466\ttest-rmse:103861.56193\n",
            "[118]\ttrain-rmse:33755.33792\ttest-rmse:103847.74771\n",
            "[119]\ttrain-rmse:33638.82298\ttest-rmse:103845.55444\n",
            "[120]\ttrain-rmse:33530.26901\ttest-rmse:103841.67859\n",
            "[121]\ttrain-rmse:33370.70625\ttest-rmse:103752.38997\n",
            "[122]\ttrain-rmse:33142.11015\ttest-rmse:103683.97684\n",
            "[123]\ttrain-rmse:33005.83041\ttest-rmse:103658.72644\n",
            "[124]\ttrain-rmse:32806.73783\ttest-rmse:103622.16645\n",
            "[125]\ttrain-rmse:32451.59605\ttest-rmse:103505.65027\n",
            "[126]\ttrain-rmse:32149.27750\ttest-rmse:103398.50044\n",
            "[127]\ttrain-rmse:32065.71285\ttest-rmse:103336.42736\n",
            "[128]\ttrain-rmse:31943.98610\ttest-rmse:103358.00083\n",
            "[129]\ttrain-rmse:31739.86824\ttest-rmse:103330.28009\n",
            "[130]\ttrain-rmse:31620.49542\ttest-rmse:103307.72194\n",
            "[131]\ttrain-rmse:31489.87246\ttest-rmse:103269.23440\n",
            "[132]\ttrain-rmse:31166.97440\ttest-rmse:103207.42463\n",
            "[133]\ttrain-rmse:30860.43656\ttest-rmse:103216.74285\n",
            "[134]\ttrain-rmse:30774.54654\ttest-rmse:103201.94528\n",
            "[135]\ttrain-rmse:30568.91196\ttest-rmse:103173.40668\n",
            "[136]\ttrain-rmse:30397.58962\ttest-rmse:103188.39004\n",
            "[137]\ttrain-rmse:30153.08639\ttest-rmse:103145.20031\n",
            "[138]\ttrain-rmse:29960.80679\ttest-rmse:102998.97729\n",
            "[139]\ttrain-rmse:29732.62911\ttest-rmse:102962.61560\n",
            "[140]\ttrain-rmse:29570.26001\ttest-rmse:102903.44474\n",
            "[141]\ttrain-rmse:29376.55636\ttest-rmse:102891.12267\n",
            "[142]\ttrain-rmse:29212.42324\ttest-rmse:102867.76721\n",
            "[143]\ttrain-rmse:29109.54464\ttest-rmse:102861.81736\n",
            "[144]\ttrain-rmse:28897.83625\ttest-rmse:102865.47852\n",
            "[145]\ttrain-rmse:28678.34873\ttest-rmse:102786.92652\n",
            "[146]\ttrain-rmse:28433.08047\ttest-rmse:102739.29570\n",
            "[147]\ttrain-rmse:28273.38264\ttest-rmse:102719.05400\n",
            "[148]\ttrain-rmse:28121.89279\ttest-rmse:102687.97094\n",
            "[149]\ttrain-rmse:27950.88972\ttest-rmse:102705.71770\n",
            "[150]\ttrain-rmse:27743.73723\ttest-rmse:102718.65764\n",
            "[151]\ttrain-rmse:27556.05013\ttest-rmse:102744.24344\n",
            "[152]\ttrain-rmse:27366.77598\ttest-rmse:102728.97381\n",
            "[153]\ttrain-rmse:27105.15181\ttest-rmse:102676.42629\n",
            "[154]\ttrain-rmse:26935.26370\ttest-rmse:102686.46546\n",
            "[155]\ttrain-rmse:26873.01234\ttest-rmse:102683.82177\n",
            "[156]\ttrain-rmse:26784.95540\ttest-rmse:102646.95712\n",
            "[157]\ttrain-rmse:26615.15626\ttest-rmse:102549.75034\n",
            "[158]\ttrain-rmse:26429.12867\ttest-rmse:102535.85843\n",
            "[159]\ttrain-rmse:26301.70752\ttest-rmse:102502.78644\n",
            "[160]\ttrain-rmse:26160.97335\ttest-rmse:102482.90308\n",
            "[161]\ttrain-rmse:26080.13189\ttest-rmse:102463.05938\n",
            "[162]\ttrain-rmse:25895.12964\ttest-rmse:102438.36718\n",
            "[163]\ttrain-rmse:25782.40612\ttest-rmse:102328.68089\n",
            "[164]\ttrain-rmse:25626.24470\ttest-rmse:102292.52041\n",
            "[165]\ttrain-rmse:25526.52662\ttest-rmse:102281.57409\n",
            "[166]\ttrain-rmse:25354.94325\ttest-rmse:102287.93661\n",
            "[167]\ttrain-rmse:25247.50392\ttest-rmse:102344.26466\n",
            "[168]\ttrain-rmse:25090.92832\ttest-rmse:102243.99285\n",
            "[169]\ttrain-rmse:24920.39665\ttest-rmse:102288.37600\n",
            "[170]\ttrain-rmse:24817.55613\ttest-rmse:102298.19717\n",
            "[171]\ttrain-rmse:24730.42890\ttest-rmse:102285.38832\n",
            "[172]\ttrain-rmse:24550.42833\ttest-rmse:102253.61755\n",
            "[173]\ttrain-rmse:24372.85986\ttest-rmse:102234.53497\n",
            "[174]\ttrain-rmse:24165.81328\ttest-rmse:102205.31862\n",
            "[175]\ttrain-rmse:24038.12724\ttest-rmse:102197.65579\n",
            "[176]\ttrain-rmse:23905.28723\ttest-rmse:102166.91836\n",
            "[177]\ttrain-rmse:23700.63813\ttest-rmse:102200.50142\n",
            "[178]\ttrain-rmse:23519.06195\ttest-rmse:102188.17144\n",
            "[179]\ttrain-rmse:23411.55116\ttest-rmse:102189.08059\n",
            "[180]\ttrain-rmse:23225.22485\ttest-rmse:102171.50033\n",
            "[181]\ttrain-rmse:23071.04045\ttest-rmse:102097.99109\n",
            "[182]\ttrain-rmse:22930.32669\ttest-rmse:102097.54088\n",
            "[183]\ttrain-rmse:22792.48066\ttest-rmse:102111.34723\n",
            "[184]\ttrain-rmse:22625.97329\ttest-rmse:102111.94437\n",
            "[185]\ttrain-rmse:22442.77421\ttest-rmse:102079.93888\n",
            "[186]\ttrain-rmse:22347.92702\ttest-rmse:102009.43960\n",
            "[187]\ttrain-rmse:22236.44229\ttest-rmse:102020.86041\n",
            "[188]\ttrain-rmse:22088.27161\ttest-rmse:101966.97602\n",
            "[189]\ttrain-rmse:21966.01823\ttest-rmse:101964.32629\n",
            "[190]\ttrain-rmse:21856.42944\ttest-rmse:101971.10672\n",
            "[191]\ttrain-rmse:21817.77439\ttest-rmse:101948.35052\n",
            "[192]\ttrain-rmse:21741.38675\ttest-rmse:101965.56956\n",
            "[193]\ttrain-rmse:21524.55965\ttest-rmse:101946.87377\n",
            "[194]\ttrain-rmse:21456.94671\ttest-rmse:101937.31381\n",
            "[195]\ttrain-rmse:21368.99951\ttest-rmse:101935.23282\n",
            "[196]\ttrain-rmse:21256.15510\ttest-rmse:101934.64470\n",
            "[197]\ttrain-rmse:21079.41543\ttest-rmse:101894.18461\n",
            "[198]\ttrain-rmse:21021.95144\ttest-rmse:101863.83512\n",
            "[199]\ttrain-rmse:20938.99986\ttest-rmse:101849.85231\n",
            "[200]\ttrain-rmse:20820.82519\ttest-rmse:101868.95750\n",
            "[201]\ttrain-rmse:20721.92239\ttest-rmse:101842.49628\n",
            "[202]\ttrain-rmse:20591.49464\ttest-rmse:101835.20131\n",
            "[203]\ttrain-rmse:20483.80691\ttest-rmse:101805.88739\n",
            "[204]\ttrain-rmse:20376.28002\ttest-rmse:101813.89582\n",
            "[205]\ttrain-rmse:20281.98896\ttest-rmse:101751.40347\n",
            "[206]\ttrain-rmse:20171.10998\ttest-rmse:101728.72381\n",
            "[207]\ttrain-rmse:20076.50379\ttest-rmse:101742.60819\n",
            "[208]\ttrain-rmse:19991.85312\ttest-rmse:101740.22245\n",
            "[209]\ttrain-rmse:19895.55230\ttest-rmse:101763.25884\n",
            "[210]\ttrain-rmse:19783.08854\ttest-rmse:101746.83619\n",
            "[211]\ttrain-rmse:19689.03932\ttest-rmse:101738.47488\n",
            "[212]\ttrain-rmse:19551.70956\ttest-rmse:101733.40027\n",
            "[213]\ttrain-rmse:19472.21838\ttest-rmse:101731.13181\n",
            "[214]\ttrain-rmse:19415.38927\ttest-rmse:101734.97251\n",
            "[215]\ttrain-rmse:19368.62651\ttest-rmse:101742.70129\n",
            "[216]\ttrain-rmse:19315.64804\ttest-rmse:101748.25877\n"
          ]
        }
      ]
    },
    {
      "cell_type": "code",
      "source": [
        "# Evaluation function (fixed)\n",
        "def evaluate_model(model, X_test, y_test):\n",
        "    dtest = xgb.DMatrix(X_test)\n",
        "    y_pred = model.predict(dtest)\n",
        "\n",
        "    print(\"\\nModel Evaluation:\")\n",
        "    print(f\"MAE: ${mean_absolute_error(y_test, y_pred):,.2f}\")\n",
        "    # Corrected RMSE calculation\n",
        "    rmse = np.sqrt(mean_squared_error(y_test, y_pred))\n",
        "    print(f\"RMSE: ${rmse:,.2f}\")\n",
        "\n",
        "    # Feature importance\n",
        "    plt.figure(figsize=(10, 6))\n",
        "    xgb.plot_importance(model, max_num_features=15)\n",
        "    plt.title(\"Feature Importance\")\n",
        "    plt.show()\n",
        "\n",
        "    # Actual vs Predicted plot\n",
        "    plt.figure(figsize=(10, 6))\n",
        "    plt.scatter(y_test, y_pred, alpha=0.3)\n",
        "    plt.plot([y.min(), y.max()], [y.min(), y.max()], 'r--')\n",
        "    plt.xlabel('Actual Sales')\n",
        "    plt.ylabel('Predicted Sales')\n",
        "    plt.title('Actual vs Predicted Sales')\n",
        "    plt.show()\n",
        "\n",
        "# Run evaluation\n",
        "evaluate_model(model, X_test, y_test)"
      ],
      "metadata": {
        "colab": {
          "base_uri": "https://localhost:8080/",
          "height": 1000
        },
        "id": "Z-0rLBE5lBsF",
        "outputId": "6c1e03ca-c753-4f78-bc1c-e5614948a82b"
      },
      "execution_count": 47,
      "outputs": [
        {
          "output_type": "stream",
          "name": "stdout",
          "text": [
            "\n",
            "Model Evaluation:\n",
            "MAE: $50,938.86\n",
            "RMSE: $101,748.26\n"
          ]
        },
        {
          "output_type": "display_data",
          "data": {
            "text/plain": [
              "<Figure size 1000x600 with 0 Axes>"
            ]
          },
          "metadata": {}
        },
        {
          "output_type": "display_data",
          "data": {
            "text/plain": [
              "<Figure size 640x480 with 1 Axes>"
            ],
            "image/png": "[encoded data removed]"
          },
          "metadata": {}
        },
        {
          "output_type": "display_data",
          "data": {
            "text/plain": [
              "<Figure size 1000x600 with 1 Axes>"
            ],
            "image/png": "[encoded data removed]"
          },
          "metadata": {}
        }
      ]
    },
    {
      "cell_type": "code",
      "source": [
        "# Convert test data to DMatrix format\n",
        "dtest = xgb.DMatrix(X_test)\n",
        "\n",
        "# Make predictions\n",
        "y_pred = model.predict(dtest)\n",
        "\n",
        "# Calculate accuracy metrics\n",
        "mae = mean_absolute_error(y_test, y_pred)\n",
        "rmse = np.sqrt(mean_squared_error(y_test, y_pred))\n",
        "r2 = r2_score(y_test, y_pred)\n",
        "mape = np.mean(np.abs((y_test - y_pred) / y_test)) * 100\n",
        "\n",
        "# Display results\n",
        "print(\"=\"*50)\n",
        "print(\"MODEL ACCURACY REPORT\")\n",
        "print(\"=\"*50)\n",
        "print(f\"Mean Absolute Error: ${mae:,.2f}\")\n",
        "print(f\"Root Mean Squared Error: ${rmse:,.2f}\")\n",
        "print(f\"Mean Absolute Percentage Error: {mape:.2f}%\")\n",
        "print(f\"R-squared Score: {r2:.4f}\")\n",
        "print(\"=\"*50)"
      ],
      "metadata": {
        "colab": {
          "base_uri": "https://localhost:8080/"
        },
        "id": "PXE3VS7OnBrk",
        "outputId": "6c8b78d7-7a48-441e-fe4d-20530fe4d5f7"
      },
      "execution_count": 48,
      "outputs": [
        {
          "output_type": "stream",
          "name": "stdout",
          "text": [
            "==================================================\n",
            "MODEL ACCURACY REPORT\n",
            "==================================================\n",
            "Mean Absolute Error: $50,938.86\n",
            "Root Mean Squared Error: $101,748.26\n",
            "Mean Absolute Percentage Error: 5.21%\n",
            "R-squared Score: 0.9684\n",
            "==================================================\n"
          ]
        }
      ]
    },
    {
      "cell_type": "code",
      "source": [
        "# Save model in .h5 format\n",
        "model.save_model('walmart_sales_model.h5')\n",
        "\n",
        "# Download the model\n",
        "from google.colab import files\n",
        "files.download('walmart_sales_model.h5')"
      ],
      "metadata": {
        "colab": {
          "base_uri": "https://localhost:8080/",
          "height": 72
        },
        "id": "eUWn9_pEpPie",
        "outputId": "af6dde33-2212-4b70-8e01-90ca9f04c25b"
      },
      "execution_count": 49,
      "outputs": [
        {
          "output_type": "stream",
          "name": "stderr",
          "text": [
            "/usr/local/lib/python3.11/dist-packages/xgboost/core.py:158: UserWarning: [20:29:36] WARNING: /workspace/src/c_api/c_api.cc:1374: Saving model in the UBJSON format as default.  You can use file extension: `json`, `ubj` or `deprecated` to choose between formats.\n",
            "  warnings.warn(smsg, UserWarning)\n"
          ]
        },
        {
          "output_type": "display_data",
          "data": {
            "text/plain": [
              "<IPython.core.display.Javascript object>"
            ],
            "application/javascript": [
              "\n",
              "    async function download(id, filename, size) {\n",
              "      if (!google.colab.kernel.accessAllowed) {\n",
              "        return;\n",
              "      }\n",
              "      const div = document.createElement('div');\n",
              "      const label = document.createElement('label');\n",
              "      label.textContent = `Downloading \"${filename}\": `;\n",
              "      div.appendChild(label);\n",
              "      const progress = document.createElement('progress');\n",
              "      progress.max = size;\n",
              "      div.appendChild(progress);\n",
              "      document.body.appendChild(div);\n",
              "\n",
              "      const buffers = [];\n",
              "      let downloaded = 0;\n",
              "\n",
              "      const channel = await google.colab.kernel.comms.open(id);\n",
              "      // Send a message to notify the kernel that we're ready.\n",
              "      channel.send({})\n",
              "\n",
              "      for await (const message of channel.messages) {\n",
              "        // Send a message to notify the kernel that we're ready.\n",
              "        channel.send({})\n",
              "        if (message.buffers) {\n",
              "          for (const buffer of message.buffers) {\n",
              "            buffers.push(buffer);\n",
              "            downloaded += buffer.byteLength;\n",
              "            progress.value = downloaded;\n",
              "          }\n",
              "        }\n",
              "      }\n",
              "      const blob = new Blob(buffers, {type: 'application/binary'});\n",
              "      const a = document.createElement('a');\n",
              "      a.href = window.URL.createObjectURL(blob);\n",
              "      a.download = filename;\n",
              "      div.appendChild(a);\n",
              "      a.click();\n",
              "      div.remove();\n",
              "    }\n",
              "  "
            ]
          },
          "metadata": {}
        },
        {
          "output_type": "display_data",
          "data": {
            "text/plain": [
              "<IPython.core.display.Javascript object>"
            ],
            "application/javascript": [
              "download(\"download_3273bac8-7565-4f2d-827b-543a36a4d0c1\", \"walmart_sales_model.h5\", 2150917)"
            ]
          },
          "metadata": {}
        }
      ]
    },
    {
      "cell_type": "code",
      "source": [
        "# Get the exact feature names from the trained model\n",
        "feature_names = model.feature_names\n",
        "print(\"Required features:\", feature_names)\n",
        "\n",
        "# Example input data - MUST MATCH THE TRAINING FEATURES EXACTLY\n",
        "new_data = {\n",
        "    'Store': [1],                   # Store number\n",
        "    'Temperature': [42.31],         # Fahrenheit\n",
        "    'Fuel_Price': [2.572],          # USD\n",
        "    'CPI': [211.096358],            # Consumer Price Index\n",
        "    'Unemployment': [8.106],        # Percentage\n",
        "    'Year': [2012],                 # Year\n",
        "    'WeekOfYear': [51],             # Week number (1-52)\n",
        "    'Store_Size_Category_Medium': [0],  # Must match training categories\n",
        "    'Store_Size_Category_Large': [0],   # Must match training categories\n",
        "    'IsHoliday_1': [1]              # 0 or 1 (1=holiday week)\n",
        "}\n",
        "\n",
        "# Create DataFrame with EXACTLY the same columns as training\n",
        "input_df = pd.DataFrame(columns=feature_names)\n",
        "for col in feature_names:\n",
        "    input_df[col] = new_data.get(col, 0)  # Fill missing with 0\n",
        "\n",
        "# Scale numerical features (using same scaler from training)\n",
        "numerical_features = ['Temperature', 'Fuel_Price', 'CPI', 'Unemployment', 'WeekOfYear']\n",
        "input_df[numerical_features] = scaler.transform(input_df[numerical_features])\n",
        "\n",
        "# Convert to DMatrix\n",
        "dinput = xgb.DMatrix(input_df)"
      ],
      "metadata": {
        "colab": {
          "base_uri": "https://localhost:8080/"
        },
        "id": "CGK_-i91pVAb",
        "outputId": "0d82ff2d-4de5-4aee-ca3f-c0ff3d45bf63"
      },
      "execution_count": 56,
      "outputs": [
        {
          "output_type": "stream",
          "name": "stdout",
          "text": [
            "Required features: ['Store', 'Temperature', 'Fuel_Price', 'CPI', 'Unemployment', 'Year', 'WeekOfYear', 'Store_Size_Category_Medium', 'Store_Size_Category_Large', 'IsHoliday_1']\n"
          ]
        }
      ]
    },
    {
      "cell_type": "code",
      "source": [
        "# Make prediction\n",
        "prediction = model.predict(dinput)\n",
        "\n",
        "# Display result\n",
        "print(f\"Predicted Weekly Sales: ${prediction[0]:,.2f}\")"
      ],
      "metadata": {
        "colab": {
          "base_uri": "https://localhost:8080/"
        },
        "id": "jSZ_TNpop2st",
        "outputId": "f91d9870-73b3-48ec-ced5-52d990fa059f"
      },
      "execution_count": 57,
      "outputs": [
        {
          "output_type": "stream",
          "name": "stdout",
          "text": [
            "Predicted Weekly Sales: $1,502,209.25\n"
          ]
        }
      ]
    }
  ]
}